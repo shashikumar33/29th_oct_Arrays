{
 "cells": [
  {
   "cell_type": "code",
   "execution_count": 1,
   "id": "5632bc1e-3beb-4afc-8a4e-3ea2685fd9e4",
   "metadata": {},
   "outputs": [
    {
     "data": {
      "text/plain": [
       "' 1. Given an array, check if it contains any duplicates or not. \\n\\narr = [1, 2, 4, 2, 5, 9] \\n\\nOutput = True '"
      ]
     },
     "execution_count": 1,
     "metadata": {},
     "output_type": "execute_result"
    }
   ],
   "source": [
    "\"\"\" 1. Given an array, check if it contains any duplicates or not. \n",
    "\n",
    "arr = [1, 2, 4, 2, 5, 9] \n",
    "\n",
    "Output = True \"\"\""
   ]
  },
  {
   "cell_type": "code",
   "execution_count": 1,
   "id": "83333c3e-35bc-4b68-b1d8-1a73cfde5005",
   "metadata": {},
   "outputs": [
    {
     "data": {
      "text/plain": [
       "True"
      ]
     },
     "execution_count": 1,
     "metadata": {},
     "output_type": "execute_result"
    }
   ],
   "source": [
    "#time complexity O(n**2)\n",
    "#space complexity O(1)\n",
    "def check_duplicate(arr):\n",
    "    n=len(arr)\n",
    "    for i in range(n): # i goes in range 0 to 6\n",
    "        for j in range(i+1,n): # j goes in range i+1(because 1st number always equal to itself) to 6\n",
    "            if arr[i]==arr[j]: # checking arr[0] is equal or not to arr[1 to 6]\n",
    "                return True # if equal return true else false\n",
    "    return False\n",
    "\n",
    "# Driver code\n",
    "arr = [1,2,4,2,5,9]\n",
    "check_duplicate(arr)"
   ]
  },
  {
   "cell_type": "code",
   "execution_count": 18,
   "id": "25a9da9f-eebc-4fa5-921c-628d80c20f4f",
   "metadata": {},
   "outputs": [
    {
     "data": {
      "text/plain": [
       "' 2. Given an array and an integer k, rotate the array to the right by k steps. \\n\\narr = [1, 2, 3, 4, 5, 6, 7] k = 3 \\n\\nOutput = [5, 6, 7, 1, 2, 3, 4] '"
      ]
     },
     "execution_count": 18,
     "metadata": {},
     "output_type": "execute_result"
    }
   ],
   "source": [
    "\"\"\" 2. Given an array and an integer k, rotate the array to the right by k steps. \n",
    "\n",
    "arr = [1, 2, 3, 4, 5, 6, 7] k = 3 \n",
    "\n",
    "Output = [5, 6, 7, 1, 2, 3, 4] \"\"\""
   ]
  },
  {
   "cell_type": "code",
   "execution_count": 4,
   "id": "b4637a7b-e036-4a8e-9d2d-0e1f86d64d84",
   "metadata": {},
   "outputs": [
    {
     "name": "stdout",
     "output_type": "stream",
     "text": [
      "[5, 6, 7, 1, 2, 3, 4]\n"
     ]
    }
   ],
   "source": [
    "#time complexity = O(n)\n",
    "#space complexity = O(1)\n",
    "def rotate_arr(arr,k):\n",
    "    n=len(arr)\n",
    "    k=k%n\n",
    "    reverse(arr,0,n-1) #reverse the whole arr\n",
    "    reverse(arr,0,k-1) #reverse 1st 3 element\n",
    "    reverse(arr,k,n-1) #reverse last 4 element\n",
    "def reverse(arr,start,end):\n",
    "    while start<end:\n",
    "        arr[start],arr[end]=arr[end],arr[start]\n",
    "        start+=1\n",
    "        end-=1\n",
    "\n",
    "#driver code\n",
    "arr=[1,2,3,4,5,6,7]\n",
    "k=3\n",
    "rotate_arr(arr,k)\n",
    "print(arr)"
   ]
  },
  {
   "cell_type": "code",
   "execution_count": 5,
   "id": "584c8e45-61d0-4896-af5c-0e844b912f06",
   "metadata": {},
   "outputs": [
    {
     "data": {
      "text/plain": [
       "'3. Reverse the given array in-place, means without using any extra data structure. \\n\\narr = [2, 4, 5, 7, 9, 12] \\n\\nOutput = [12, 9, 7, 5, 4, 2]'"
      ]
     },
     "execution_count": 5,
     "metadata": {},
     "output_type": "execute_result"
    }
   ],
   "source": [
    "\"\"\"3. Reverse the given array in-place, means without using any extra data structure. \n",
    "\n",
    "arr = [2, 4, 5, 7, 9, 12] \n",
    "\n",
    "Output = [12, 9, 7, 5, 4, 2]\"\"\""
   ]
  },
  {
   "cell_type": "code",
   "execution_count": 10,
   "id": "664784d8-9573-40e1-9f60-20285fce3731",
   "metadata": {},
   "outputs": [
    {
     "name": "stdout",
     "output_type": "stream",
     "text": [
      "[12, 9, 7, 5, 4, 2]\n"
     ]
    }
   ],
   "source": [
    "#time complexity=O(n)\n",
    "#space complexity=O(1)\n",
    "def reverse_in_place(arr):\n",
    "    start=0\n",
    "    end=len(arr)-1\n",
    "    while start<end:\n",
    "        arr[start],arr[end]=arr[end],arr[start] \n",
    "        start+=1\n",
    "        end-=1\n",
    "\n",
    "#driver code\n",
    "arr=[2,4,5,7,9,12]\n",
    "reverse_in_place(arr)\n",
    "print(arr)"
   ]
  },
  {
   "cell_type": "code",
   "execution_count": 11,
   "id": "28b752b4-e28c-4241-9f98-16dcb859022d",
   "metadata": {},
   "outputs": [
    {
     "data": {
      "text/plain": [
       "' 4. Given an array of integers, find the maximum element in an array\\n\\n arr = [10, 5, 20, 8, 15]\\n\\n Output = 20'"
      ]
     },
     "execution_count": 11,
     "metadata": {},
     "output_type": "execute_result"
    }
   ],
   "source": [
    "\"\"\" 4. Given an array of integers, find the maximum element in an array\n",
    "\n",
    " arr = [10, 5, 20, 8, 15]\n",
    "\n",
    " Output = 20\"\"\""
   ]
  },
  {
   "cell_type": "code",
   "execution_count": 14,
   "id": "e3c6077f-bcc3-4ea7-93a8-8aee1da2ec15",
   "metadata": {},
   "outputs": [
    {
     "name": "stdout",
     "output_type": "stream",
     "text": [
      "20\n"
     ]
    }
   ],
   "source": [
    "#time complexity=O(n)\n",
    "#space complexity=O(1)\n",
    "def find_max_element(nums):\n",
    "    if not nums:\n",
    "        return None\n",
    "    maximum_element=nums[0]\n",
    "    for num in nums[1:]:\n",
    "        if num>maximum_element:\n",
    "            maximum_element=num\n",
    "    return maximum_element\n",
    "\n",
    "arr=[10,5,20,8,15]\n",
    "maximum_element=find_max_element(arr)\n",
    "print(maximum_element)"
   ]
  },
  {
   "cell_type": "code",
   "execution_count": 15,
   "id": "51d7bb83-0d98-4c47-a372-1f0b63ac5ebd",
   "metadata": {},
   "outputs": [
    {
     "data": {
      "text/plain": [
       "'5. Given a sorted array, remove the duplicate element without using any extra data structure. \\n\\narr = [1, 1, 2, 2, 2, 3, 3, 4, 4, 4, 5, 5] \\n\\nOutput = [1, 2, 3, 4, 5]\\n'"
      ]
     },
     "execution_count": 15,
     "metadata": {},
     "output_type": "execute_result"
    }
   ],
   "source": [
    "\"\"\"5. Given a sorted array, remove the duplicate element without using any extra data structure. \n",
    "\n",
    "arr = [1, 1, 2, 2, 2, 3, 3, 4, 4, 4, 5, 5] \n",
    "\n",
    "Output = [1, 2, 3, 4, 5]\n",
    "\"\"\""
   ]
  },
  {
   "cell_type": "code",
   "execution_count": 4,
   "id": "eac4debd-fab5-48fe-9e6a-8c8c6fcad31d",
   "metadata": {},
   "outputs": [
    {
     "name": "stdout",
     "output_type": "stream",
     "text": [
      "[1, 2, 3, 4, 5]\n"
     ]
    }
   ],
   "source": [
    "#time complexity=O(n)\n",
    "#space complexity=O(1)\n",
    "def remove_duplicate(nums):\n",
    "    if not nums:\n",
    "        return None\n",
    "    unique_index=0\n",
    "    for i in range(1,len(nums)):\n",
    "        if nums[i]!=nums[unique_index]:\n",
    "            unique_index+=1\n",
    "            nums[unique_index]=nums[i]\n",
    "    return unique_index + 1\n",
    "\n",
    "#driver code\n",
    "arr=[1,1,2,2,2,3,3,4,4,4,5,5]\n",
    "new_length=remove_duplicate(arr)\n",
    "result=arr[:new_length]\n",
    "print(result)"
   ]
  },
  {
   "cell_type": "code",
   "execution_count": null,
   "id": "b8af0bc9-3946-4e35-8cd8-a9f8ea41ee96",
   "metadata": {},
   "outputs": [],
   "source": []
  }
 ],
 "metadata": {
  "kernelspec": {
   "display_name": "Python 3 (ipykernel)",
   "language": "python",
   "name": "python3"
  },
  "language_info": {
   "codemirror_mode": {
    "name": "ipython",
    "version": 3
   },
   "file_extension": ".py",
   "mimetype": "text/x-python",
   "name": "python",
   "nbconvert_exporter": "python",
   "pygments_lexer": "ipython3",
   "version": "3.10.8"
  }
 },
 "nbformat": 4,
 "nbformat_minor": 5
}
